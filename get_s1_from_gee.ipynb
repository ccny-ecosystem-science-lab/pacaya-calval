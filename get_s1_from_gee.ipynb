{
 "cells": [
  {
   "cell_type": "markdown",
   "id": "8766c3d7",
   "metadata": {},
   "source": [
    "# Jupyter notebook to pull Sentinel-1 data from Google Earth Engine\n",
    "\n",
    "Created by: Brandi Downs <br>\n",
    "brandi.downs@jpl.nasa.gov"
   ]
  },
  {
   "cell_type": "code",
   "execution_count": 27,
   "id": "cc90d8d8",
   "metadata": {},
   "outputs": [],
   "source": [
    "# Import libraries\n",
    "\n",
    "import ee\n",
    "import geemap\n",
    "from datetime import datetime, timedelta\n",
    "import math\n",
    "import matplotlib.pyplot as plt\n",
    "import numpy as np\n",
    "import ipynb\n",
    "import time\n",
    "from speckle_filter import leesigma"
   ]
  },
  {
   "cell_type": "code",
   "execution_count": 29,
   "id": "1d8188d2",
   "metadata": {},
   "outputs": [],
   "source": [
    "# Get authentication credentials to initialize ee\n",
    "\n",
    "ee.Authenticate()\n",
    "ee.Initialize()"
   ]
  },
  {
   "cell_type": "code",
   "execution_count": 30,
   "id": "3eca2371",
   "metadata": {},
   "outputs": [],
   "source": [
    "# Define geometry for data collection\n",
    "\n",
    "# Define rectangle bounding box:\n",
    "# Syntax: ee.Geometry.Rectangle([lower_left_lon, lower_left_lat, upper_right_lon, upper_right_lat])\n",
    "#roi = ee.Geometry.Rectangle([-136.54, 68.35, -132.47, 70.17]); # Mackenzie River Delta\n",
    "      \n",
    "\n",
    "# Or use shapefile to define roi boundary\n",
    "shp_file = 'data/pacaya.shp'\n",
    "roi = geemap.shp_to_ee(shp_file)\n"
   ]
  },
  {
   "cell_type": "code",
   "execution_count": 47,
   "id": "a15eb6b7",
   "metadata": {},
   "outputs": [
    {
     "name": "stdout",
     "output_type": "stream",
     "text": [
      "Number of images in s1 collection: 2\n",
      "['09-12-2023', '09-12-2023']\n"
     ]
    }
   ],
   "source": [
    "# Import s1 data from google earth engine\n",
    "\n",
    "d1 = '2023-09-12'\n",
    "d2 = '2023-09-13'\n",
    "\n",
    "# Choose ascending or descending\n",
    "#orbit_pass = 'ASCENDING'\n",
    "orbit_pass = 'DESCENDING'\n",
    "\n",
    "s1_collection = (ee.ImageCollection('COPERNICUS/S1_GRD_FLOAT')\n",
    "                 .filter(ee.Filter.eq('instrumentMode', 'IW'))\n",
    "                 .filterMetadata('resolution_meters', 'equals', 10)\n",
    "                 .filter(ee.Filter.eq('orbitProperties_pass', orbit_pass))\n",
    "                 .filter(ee.Filter.date(d1,d2))\n",
    "                 .filterBounds(roi))\n",
    "print('Number of images in s1 collection:', s1_collection.size().getInfo())\n",
    "\n",
    "\n",
    "# Get dates of images\n",
    "acq_times = s1_collection.aggregate_array('system:time_start').getInfo()\n",
    "date_list = [time.strftime('%m-%d-%Y', time.gmtime(t/1000)) for t in acq_times]\n",
    "print(date_list)"
   ]
  },
  {
   "cell_type": "code",
   "execution_count": 48,
   "id": "3abfdb0d",
   "metadata": {},
   "outputs": [
    {
     "data": {
      "text/plain": [
       "ee.imagecollection.ImageCollection"
      ]
     },
     "execution_count": 48,
     "metadata": {},
     "output_type": "execute_result"
    }
   ],
   "source": [
    "# Implement speckle filter, get vv/vh ratio, keep only bands of interest\n",
    "\n",
    "def speckle(img):\n",
    "    k = 5\n",
    "    vv = img.select('VV')\n",
    "    vh = img.select('VH')\n",
    "    vv_vh = vv.divide(vh).rename('VV_VH')\n",
    "    vv_filtered = leesigma(vv,k).rename('VV_filtered')\n",
    "    vh_filtered = leesigma(vh,k).rename('VH_filtered')\n",
    "    vv_vh_filtered = vv_filtered.divide(vh_filtered).rename('VV_VH_filtered')\n",
    "    img = img.addBands(ee.Image([vv_vh, vv_filtered, vh_filtered, vv_vh_filtered]))\n",
    "    return img\n",
    "\n",
    "s1_collection = s1_collection.map(speckle)\n",
    "s1_img = s1_collection.select(['VV_filtered','VH_filtered','VV_VH_filtered'])\n",
    "type(s1_img)"
   ]
  },
  {
   "cell_type": "code",
   "execution_count": 49,
   "id": "a98e1593",
   "metadata": {
    "scrolled": true
   },
   "outputs": [
    {
     "data": {
      "application/vnd.jupyter.widget-view+json": {
       "model_id": "7111d2db4942442c9d09f51d59af69f5",
       "version_major": 2,
       "version_minor": 0
      },
      "text/plain": [
       "Map(center=[-5.176930162354333, -74.76610280207753], controls=(WidgetControl(options=['position', 'transparent…"
      ]
     },
     "execution_count": 49,
     "metadata": {},
     "output_type": "execute_result"
    }
   ],
   "source": [
    "# OPTIONAL: show data on map to make sure it looks right before exporting\n",
    "\n",
    "# Define visibility parameters\n",
    "vv_vis = {\n",
    "    'min': 0,\n",
    "    'max': 0.2,\n",
    "    'palette': ['#000000','#ffffff']\n",
    "}\n",
    "vh_vis = {\n",
    "    'min': 0,\n",
    "    'max': 0.03,\n",
    "    'palette': ['#000000','#ffffff']\n",
    "}\n",
    "vv_vh_vis = {\n",
    "    'min': 3,\n",
    "    'max': 30,\n",
    "    'palette': ['#000000','#ffffff']\n",
    "}\n",
    "\n",
    "\n",
    "# Create map and load basemap\n",
    "M = geemap.Map()\n",
    "M.centerObject(roi, 8)\n",
    "M.add_basemap('HYBRID')\n",
    "\n",
    "# add s1 image to map\n",
    "M.addLayer(s1_img.mean().clip(roi).select('VV_filtered'), vv_vis, 's1')\n",
    "\n",
    "# Show roi bounding box - optional\n",
    "M.addLayer(roi,{},'boundary')\n",
    "\n",
    "# Show map\n",
    "M"
   ]
  },
  {
   "cell_type": "code",
   "execution_count": 50,
   "id": "70891684",
   "metadata": {},
   "outputs": [
    {
     "name": "stdout",
     "output_type": "stream",
     "text": [
      "s1_2023-09-12_DESCENDING\n"
     ]
    }
   ],
   "source": [
    "# For each date, merge (mean), clip to roi, and export to Google Drive\n",
    "\n",
    "unique_dates = np.unique(date_list)\n",
    "task_id = []\n",
    "\n",
    "for k in unique_dates:\n",
    "    \n",
    "    t1 = datetime.strptime(k,'%m-%d-%Y').date()\n",
    "    t2 = t1 + timedelta(days=1)\n",
    "\n",
    "    t1 = t1.strftime('%Y-%m-%d')\n",
    "    t2 = t2.strftime('%Y-%m-%d')\n",
    "    \n",
    "    # Get s1 data\n",
    "    s1_collection = (ee.ImageCollection('COPERNICUS/S1_GRD_FLOAT')\n",
    "                 .filter(ee.Filter.eq('instrumentMode', 'IW'))\n",
    "                 .filterMetadata('resolution_meters', 'equals', 10)\n",
    "                 .filter(ee.Filter.eq('orbitProperties_pass', orbit_pass))\n",
    "                 .filter(ee.Filter.date(t1,t2))\n",
    "                 .filterBounds(roi))\n",
    "    s1_collection = s1_collection.map(speckle)\n",
    "    s1_img = s1_collection.select(['VV_filtered','VH_filtered','VV_VH_filtered']).mean().clip(roi)\n",
    "    \n",
    "    # Export to drive folder\n",
    "    txt = 's1_' + t1 + '_' + orbit_pass\n",
    "    task = ee.batch.Export.image.toDrive(image=s1_img, description=txt, scale=100, fileNamePrefix=txt,\n",
    "                                         crs='EPSG:4326', fileFormat='GeoTIFF', maxPixels=2e10, region=roi)\n",
    "    task.start()\n",
    "    task_id.append(task.id)    \n",
    "    print(txt)    \n"
   ]
  },
  {
   "cell_type": "code",
   "execution_count": 51,
   "id": "4c448c3f",
   "metadata": {
    "scrolled": true
   },
   "outputs": [
    {
     "data": {
      "text/plain": [
       "[<Task DRYOF26UEH7XFKIDD5KP55E6 EXPORT_IMAGE: s1_2023-09-12_DESCENDING (READY)>,\n",
       " <Task DR2XWUKVISET3ZLTP7B7U63E EXPORT_IMAGE: s1_2023-09-08_ASCENDING (COMPLETED)>]"
      ]
     },
     "execution_count": 51,
     "metadata": {},
     "output_type": "execute_result"
    }
   ],
   "source": [
    "task.list()"
   ]
  }
 ],
 "metadata": {
  "kernelspec": {
   "display_name": "Python 3 (ipykernel)",
   "language": "python",
   "name": "python3"
  },
  "language_info": {
   "codemirror_mode": {
    "name": "ipython",
    "version": 3
   },
   "file_extension": ".py",
   "mimetype": "text/x-python",
   "name": "python",
   "nbconvert_exporter": "python",
   "pygments_lexer": "ipython3",
   "version": "3.11.4"
  }
 },
 "nbformat": 4,
 "nbformat_minor": 5
}
